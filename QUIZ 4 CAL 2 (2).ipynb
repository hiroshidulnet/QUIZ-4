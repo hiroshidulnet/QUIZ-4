{
 "cells": [
  {
   "cell_type": "code",
   "execution_count": 7,
   "id": "a786944f-d8df-4954-b143-ba898d27f8ad",
   "metadata": {},
   "outputs": [
    {
     "data": {
      "text/latex": [
       "$\\displaystyle \\frac{2 x^{2} \\sqrt{x + 1}}{5} + \\frac{2 x \\sqrt{x + 1}}{15} - \\frac{4 \\sqrt{x + 1}}{15}$"
      ],
      "text/plain": [
       "2*x**2*sqrt(x + 1)/5 + 2*x*sqrt(x + 1)/15 - 4*sqrt(x + 1)/15"
      ]
     },
     "execution_count": 7,
     "metadata": {},
     "output_type": "execute_result"
    }
   ],
   "source": [
    "from sympy import *\n",
    "x=Symbol('x')\n",
    "integrate (x*(sqrt(x + 1)))"
   ]
  },
  {
   "cell_type": "code",
   "execution_count": 11,
   "id": "b85c0fb2-a936-494f-9600-635bada8396d",
   "metadata": {},
   "outputs": [
    {
     "data": {
      "text/latex": [
       "$\\displaystyle \\frac{x^{2} \\sqrt{4 x^{2} + 9}}{3} + \\frac{3 \\sqrt{4 x^{2} + 9}}{4}$"
      ],
      "text/plain": [
       "x**2*sqrt(4*x**2 + 9)/3 + 3*sqrt(4*x**2 + 9)/4"
      ]
     },
     "execution_count": 11,
     "metadata": {},
     "output_type": "execute_result"
    }
   ],
   "source": [
    "from sympy import *\n",
    "x=Symbol('x')\n",
    "integrate(x*sqrt(4*x**2 + 9))"
   ]
  },
  {
   "cell_type": "code",
   "execution_count": 12,
   "id": "2cf7a417-9645-480c-80cc-9ac417f7ea67",
   "metadata": {},
   "outputs": [
    {
     "data": {
      "text/latex": [
       "$\\displaystyle \\left(\\frac{x^{2}}{2} + x\\right)^{4}$"
      ],
      "text/plain": [
       "(x**2/2 + x)**4"
      ]
     },
     "execution_count": 12,
     "metadata": {},
     "output_type": "execute_result"
    }
   ],
   "source": [
    "from sympy import *\n",
    "x=Symbol('x')\n",
    "integrate(x+1)**4"
   ]
  },
  {
   "cell_type": "code",
   "execution_count": 13,
   "id": "a5bc012b-52d0-444a-9dda-938b56c5c66b",
   "metadata": {},
   "outputs": [
    {
     "data": {
      "text/latex": [
       "$\\displaystyle \\frac{1}{\\left(x^{2} - 3 x\\right)^{7}}$"
      ],
      "text/plain": [
       "(x**2 - 3*x)**(-7)"
      ]
     },
     "execution_count": 13,
     "metadata": {},
     "output_type": "execute_result"
    }
   ],
   "source": [
    "from sympy import *\n",
    "x=Symbol('x')\n",
    "integrate(2*x-3)**(-7)"
   ]
  },
  {
   "cell_type": "code",
   "execution_count": 28,
   "id": "07bc9ce0-1ce9-4d50-ba69-afbaa662f292",
   "metadata": {},
   "outputs": [
    {
     "ename": "SyntaxError",
     "evalue": "unmatched ')' (3565602725.py, line 3)",
     "output_type": "error",
     "traceback": [
      "\u001b[1;36m  Cell \u001b[1;32mIn[28], line 3\u001b[1;36m\u001b[0m\n\u001b[1;33m    integrate(sec**2*x*tan*x),(x,0,sqrt pi/4))\u001b[0m\n\u001b[1;37m                                             ^\u001b[0m\n\u001b[1;31mSyntaxError\u001b[0m\u001b[1;31m:\u001b[0m unmatched ')'\n"
     ]
    }
   ],
   "source": [
    "from sympy import *\n",
    "x=Symbol('x')\n",
    "integrate(sec**2*x*tan*x),(x,0,sqrt pi/4))"
   ]
  },
  {
   "cell_type": "code",
   "execution_count": 27,
   "id": "cceb781c-a4a3-4cf6-8f9a-467a606c69a6",
   "metadata": {},
   "outputs": [
    {
     "data": {
      "text/latex": [
       "$\\displaystyle \\frac{\\Gamma\\left(\\frac{2}{3}\\right) {{}_{2}F_{1}\\left(\\begin{matrix} \\frac{1}{2}, \\frac{2}{3} \\\\ \\frac{5}{3} \\end{matrix}\\middle| {-1} \\right)}}{3 \\Gamma\\left(\\frac{5}{3}\\right)}$"
      ],
      "text/plain": [
       "gamma(2/3)*hyper((1/2, 2/3), (5/3,), -1)/(3*gamma(5/3))"
      ]
     },
     "execution_count": 27,
     "metadata": {},
     "output_type": "execute_result"
    }
   ],
   "source": [
    "from sympy import *\n",
    "x=Symbol('x')\n",
    "t=Symbol('t')\n",
    "integrate( t/sqrt(1+t**3),(t,0,1))"
   ]
  },
  {
   "cell_type": "code",
   "execution_count": 26,
   "id": "3f956d45-b3f8-40f8-b887-efa10195f732",
   "metadata": {},
   "outputs": [
    {
     "data": {
      "text/latex": [
       "$\\displaystyle \\frac{1}{3}$"
      ],
      "text/plain": [
       "1/3"
      ]
     },
     "execution_count": 26,
     "metadata": {},
     "output_type": "execute_result"
    }
   ],
   "source": [
    "from sympy import *\n",
    "x=Symbol('x')\n",
    "integrate(x*sqrt(1-x**2), (x,0,1))"
   ]
  },
  {
   "cell_type": "code",
   "execution_count": 30,
   "id": "af72618e-8bf8-4b39-b0de-ae5644d308b7",
   "metadata": {},
   "outputs": [
    {
     "data": {
      "text/latex": [
       "$\\displaystyle 3 - \\sqrt{5}$"
      ],
      "text/plain": [
       "3 - sqrt(5)"
      ]
     },
     "execution_count": 30,
     "metadata": {},
     "output_type": "execute_result"
    }
   ],
   "source": [
    "from sympy import *\n",
    "t=Symbol('t')\n",
    "integrate(t/sqrt(5+t**2),(t,0,2))"
   ]
  },
  {
   "cell_type": "code",
   "execution_count": 40,
   "id": "c20c05ea-2466-4089-8a22-48f6bb3315db",
   "metadata": {},
   "outputs": [
    {
     "ename": "TypeError",
     "evalue": "unsupported operand type(s) for *: 'FunctionClass' and 'Symbol'",
     "output_type": "error",
     "traceback": [
      "\u001b[1;31m---------------------------------------------------------------------------\u001b[0m",
      "\u001b[1;31mTypeError\u001b[0m                                 Traceback (most recent call last)",
      "Cell \u001b[1;32mIn[40], line 3\u001b[0m\n\u001b[0;32m      1\u001b[0m \u001b[38;5;28;01mfrom\u001b[39;00m \u001b[38;5;21;01msympy\u001b[39;00m \u001b[38;5;28;01mimport\u001b[39;00m \u001b[38;5;241m*\u001b[39m\n\u001b[0;32m      2\u001b[0m x\u001b[38;5;241m=\u001b[39mSymbol(\u001b[38;5;124m'\u001b[39m\u001b[38;5;124mx\u001b[39m\u001b[38;5;124m'\u001b[39m)\n\u001b[1;32m----> 3\u001b[0m integrate(sin\u001b[38;5;241m*\u001b[39mx\u001b[38;5;241m/\u001b[39mcos\u001b[38;5;241m*\u001b[39m\u001b[38;5;241m*\u001b[39m\u001b[38;5;241m4\u001b[39m\u001b[38;5;241m*\u001b[39mx),(x,\u001b[38;5;241m0\u001b[39m,pi\u001b[38;5;241m/\u001b[39m\u001b[38;5;241m4\u001b[39m)\n",
      "\u001b[1;31mTypeError\u001b[0m: unsupported operand type(s) for *: 'FunctionClass' and 'Symbol'"
     ]
    }
   ],
   "source": [
    "from sympy import *\n",
    "x=Symbol('x')\n",
    "integrate(sin*x/cos**4*x),(x,0,pi/4)"
   ]
  },
  {
   "cell_type": "code",
   "execution_count": 41,
   "id": "450afcc3-a941-4bb2-9e6d-c35cf78d651b",
   "metadata": {},
   "outputs": [
    {
     "data": {
      "text/latex": [
       "$\\displaystyle x + \\log{\\left(x - 3 \\right)}$"
      ],
      "text/plain": [
       "x + log(x - 3)"
      ]
     },
     "execution_count": 41,
     "metadata": {},
     "output_type": "execute_result"
    }
   ],
   "source": [
    "from sympy import *\n",
    "x=Symbol('x')\n",
    "integrate(1/(x-3)*(x-2))"
   ]
  },
  {
   "cell_type": "code",
   "execution_count": 42,
   "id": "410de48d-aa45-424d-8cee-4ef8d724ade9",
   "metadata": {},
   "outputs": [
    {
     "data": {
      "text/latex": [
       "$\\displaystyle x^{2} - 8 x + 3 \\log{\\left(x \\right)}$"
      ],
      "text/plain": [
       "x**2 - 8*x + 3*log(x)"
      ]
     },
     "execution_count": 42,
     "metadata": {},
     "output_type": "execute_result"
    }
   ],
   "source": [
    "from sympy import *\n",
    "x=Symbol('x')\n",
    "integrate(3*x/x**2+2*x-8)"
   ]
  },
  {
   "cell_type": "code",
   "execution_count": 45,
   "id": "9175dfb0-06d6-4026-8bea-2c9745e9120b",
   "metadata": {},
   "outputs": [
    {
     "data": {
      "text/latex": [
       "$\\displaystyle \\frac{\\frac{x^{2}}{2} + x}{\\left(x - 2\\right) \\left(x + 3\\right)}$"
      ],
      "text/plain": [
       "(x**2/2 + x)/((x - 2)*(x + 3))"
      ]
     },
     "execution_count": 45,
     "metadata": {},
     "output_type": "execute_result"
    }
   ],
   "source": [
    "from sympy import *\n",
    "x=Symbol('x')\n",
    "integrate(x + 1) / ((x + 3) * (x - 2))"
   ]
  },
  {
   "cell_type": "code",
   "execution_count": 46,
   "id": "b9d6d61f-f571-47cb-9ec8-78d7bfd2a339",
   "metadata": {},
   "outputs": [
    {
     "data": {
      "text/latex": [
       "$\\displaystyle \\frac{\\frac{x^{2}}{2} - 3 x}{x + 2}$"
      ],
      "text/plain": [
       "(x**2/2 - 3*x)/(x + 2)"
      ]
     },
     "execution_count": 46,
     "metadata": {},
     "output_type": "execute_result"
    }
   ],
   "source": [
    "from sympy import *\n",
    "x=Symbol('x')\n",
    "integrate(x - 3) / (x + 2)"
   ]
  },
  {
   "cell_type": "code",
   "execution_count": 52,
   "id": "d13a6263-09d5-492e-b8b1-2a53e2eb8545",
   "metadata": {},
   "outputs": [],
   "source": [
    "from sympy import *\n",
    "x=Symbol('x')\n",
    "integrate= 1 / (1 + x**2)**(3/2)"
   ]
  },
  {
   "cell_type": "code",
   "execution_count": 53,
   "id": "04834081-de75-4b11-b4c9-83de3ebfb8c2",
   "metadata": {},
   "outputs": [
    {
     "data": {
      "text/latex": [
       "$\\displaystyle \\frac{x}{\\sqrt{1 + \\frac{1}{x^{2}}}} - \\operatorname{asinh}{\\left(\\frac{1}{x} \\right)} + \\frac{1}{x \\sqrt{1 + \\frac{1}{x^{2}}}}$"
      ],
      "text/plain": [
       "x/sqrt(1 + x**(-2)) - asinh(1/x) + 1/(x*sqrt(1 + x**(-2)))"
      ]
     },
     "execution_count": 53,
     "metadata": {},
     "output_type": "execute_result"
    }
   ],
   "source": [
    "from sympy import *\n",
    "x=Symbol('x')\n",
    "integrate(sqrt(1 + x**2) / x)"
   ]
  },
  {
   "cell_type": "code",
   "execution_count": 55,
   "id": "1c7fd462-00d9-4c91-a4e5-f236b87ecaf3",
   "metadata": {},
   "outputs": [
    {
     "data": {
      "text/latex": [
       "$\\displaystyle - \\sqrt{1 + \\frac{1}{x^{2}}}$"
      ],
      "text/plain": [
       "-sqrt(1 + x**(-2))"
      ]
     },
     "execution_count": 55,
     "metadata": {},
     "output_type": "execute_result"
    }
   ],
   "source": [
    "from sympy import *\n",
    "x=Symbol('x')\n",
    "integrate(1 / (x**2 *sqrt(x**2 + 1)))"
   ]
  },
  {
   "cell_type": "code",
   "execution_count": 56,
   "id": "c39c90cc-cf99-4be2-bf57-84f83b81f4a0",
   "metadata": {},
   "outputs": [
    {
     "data": {
      "text/latex": [
       "$\\displaystyle \\frac{x \\sqrt{x^{2} + 1}}{2} - \\frac{\\operatorname{asinh}{\\left(x \\right)}}{2}$"
      ],
      "text/plain": [
       "x*sqrt(x**2 + 1)/2 - asinh(x)/2"
      ]
     },
     "execution_count": 56,
     "metadata": {},
     "output_type": "execute_result"
    }
   ],
   "source": [
    "from sympy import *\n",
    "x=Symbol('x')\n",
    "integrate(x**2 /sqrt(1 + x**2))"
   ]
  },
  {
   "cell_type": "code",
   "execution_count": 63,
   "id": "2367ec7a-3b20-490a-b632-c36605bba98b",
   "metadata": {},
   "outputs": [
    {
     "data": {
      "text/plain": [
       "((x**3/3 + x**2 + x)/(x**3 + 3*x**2 + 3*x), (x, 1, 2))"
      ]
     },
     "execution_count": 63,
     "metadata": {},
     "output_type": "execute_result"
    }
   ],
   "source": [
    "from sympy import *\n",
    "x=Symbol('x')\n",
    "integrate(1 + 2*x + x**2) / (3*x + 3*x**2 + x**3), (x,1,2)\n"
   ]
  },
  {
   "cell_type": "code",
   "execution_count": 64,
   "id": "c1e66096-89f9-4c13-9808-7b9d0e337dfd",
   "metadata": {},
   "outputs": [
    {
     "data": {
      "text/latex": [
       "$\\displaystyle \\frac{x \\sqrt{x^{2} - 1}}{2} + \\frac{\\log{\\left(x + \\sqrt{x^{2} - 1} \\right)}}{2}$"
      ],
      "text/plain": [
       "x*sqrt(x**2 - 1)/2 + log(x + sqrt(x**2 - 1))/2"
      ]
     },
     "execution_count": 64,
     "metadata": {},
     "output_type": "execute_result"
    }
   ],
   "source": [
    "from sympy import *\n",
    "x=Symbol('x')\n",
    "integrate(x**2 /sqrt(x**2 - 1))"
   ]
  },
  {
   "cell_type": "code",
   "execution_count": 70,
   "id": "d21c1349-b524-40de-b53b-1436c40b9642",
   "metadata": {},
   "outputs": [
    {
     "data": {
      "text/latex": [
       "$\\displaystyle \\log{\\left(x + \\sqrt{x^{2} - 4} \\right)}$"
      ],
      "text/plain": [
       "log(x + sqrt(x**2 - 4))"
      ]
     },
     "execution_count": 70,
     "metadata": {},
     "output_type": "execute_result"
    }
   ],
   "source": [
    "from sympy import *\n",
    "x=Symbol('x')\n",
    "a=2\n",
    "integrate(1 /sqrt(x**2 - a**2))"
   ]
  },
  {
   "cell_type": "code",
   "execution_count": null,
   "id": "1816d192-4d3a-4136-9e85-73091e9ec80a",
   "metadata": {},
   "outputs": [],
   "source": [
    "    "
   ]
  },
  {
   "cell_type": "code",
   "execution_count": null,
   "id": "c820574e-c144-4bce-9af0-2ec268c17929",
   "metadata": {},
   "outputs": [],
   "source": []
  }
 ],
 "metadata": {
  "kernelspec": {
   "display_name": "Python 3 (ipykernel)",
   "language": "python",
   "name": "python3"
  },
  "language_info": {
   "codemirror_mode": {
    "name": "ipython",
    "version": 3
   },
   "file_extension": ".py",
   "mimetype": "text/x-python",
   "name": "python",
   "nbconvert_exporter": "python",
   "pygments_lexer": "ipython3",
   "version": "3.12.4"
  }
 },
 "nbformat": 4,
 "nbformat_minor": 5
}
